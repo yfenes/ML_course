{
 "cells": [
  {
   "cell_type": "markdown",
   "metadata": {},
   "source": [
    "# CMPE 462 - Project 3\n",
    "## Logistic Matrix Factorization\n",
    "\n",
    "**Student IDs: 2013400069, 2013400198, 2013400213**\n",
    "\n",
    "## Problem Description\n",
    "\n",
    "Binary matrices (Matrices with elements of 0/1) appear in many applications. A binary matrix can represent relations such as 'User $i$ bought item $j$', or 'Member $i$ likes Member $j$'. Such datasets are often sparse -- only a fraction of the possible entries of a matrix are known. \n",
    "\n",
    "A binary matrix can also viewed as the adjacency matrix of a bipartite graph. Hence each entry corresponds to an edge.\n",
    "One task here is known as link prediction, meaning guessing the presence or absence of edges in the underlying graph. \n",
    "This prediction can then be used for several tasks such as recommendation or knowledge-base completion.\n",
    "\n",
    "In this project, you are going to implement a matrix factorization with missing elements using Stochastic Gradient Descent (SGD), Batch SGD and GD first in numpy, then also making use of PyTorch. You will also analyze the effect of the fraction of missing elements, estimation rank and max iteration. \n",
    "\n",
    "The matrix you will factorize is a binary(logistic) matrix and has a specific pattern. Its elements that whose indices sum up to an even number are 1 and 0 otherwise. For more detailed derivation and problem description, you can analyze [this](https://github.com/atcemgil/notes/blob/master/Logistic%20Matrix%20Factorization.ipynb) notebook."
   ]
  },
  {
   "cell_type": "code",
   "execution_count": 65,
   "metadata": {},
   "outputs": [],
   "source": [
    "import numpy as np\n",
    "import matplotlib.pyplot as plt\n",
    "import random\n",
    "import time\n",
    "import torch\n",
    "from torch.autograd import Variable\n",
    "from torch import nn"
   ]
  },
  {
   "cell_type": "code",
   "execution_count": 66,
   "metadata": {},
   "outputs": [],
   "source": [
    "def sigmoid(t):\n",
    "    return 1./(1+np.exp(-t))"
   ]
  },
  {
   "cell_type": "markdown",
   "metadata": {},
   "source": [
    "# Dataset Generation\n",
    "\n",
    "This cell generates the dataset as we have discussed. It sets the elements whom indices sum up to even number to 1."
   ]
  },
  {
   "cell_type": "code",
   "execution_count": 67,
   "metadata": {},
   "outputs": [
    {
     "data": {
      "image/png": "[encoded data removed]",
      "text/plain": [
       "<matplotlib.figure.Figure at 0x10c1a85f8>"
      ]
     },
     "metadata": {},
     "output_type": "display_data"
    }
   ],
   "source": [
    "M = 20 # Use a square matrix of 50x50. You can change it if you wish\n",
    "original_matrix = np.array([[int((i + j) % 2 == 0) for j in range(M)] for  i in range(M)])\n",
    "#original_matrix = np.random.rand(M, M)\n",
    "plt.imshow(original_matrix, interpolation='nearest')  \n",
    "plt.title('Original Matrix (Full data)')\n",
    "plt.show()"
   ]
  },
  {
   "cell_type": "markdown",
   "metadata": {},
   "source": [
    "# Masking\n",
    "\n",
    "Now mask the dataset. Number of elements to mask is set by a parameter. \n",
    "\n",
    "Seed the random for repeatability"
   ]
  },
  {
   "cell_type": "code",
   "execution_count": 68,
   "metadata": {},
   "outputs": [
    {
     "data": {
      "image/png": "[encoded data removed]",
      "text/plain": [
       "<matplotlib.figure.Figure at 0x10a593390>"
      ]
     },
     "metadata": {},
     "output_type": "display_data"
    }
   ],
   "source": [
    "random.seed(10)\n",
    "def generate_mask(M = 50, mask_count=M*M//10):\n",
    "    masks = [(random.randint(0,M-1), random.randint(0,M-1)) for i in range(mask_count)]\n",
    "    mask = np.ones((M,M))\n",
    "    for m in masks:\n",
    "        mask[m] = np.nan\n",
    "    return mask\n",
    "\n",
    "mask = generate_mask(M)\n",
    "plt.imshow(mask, interpolation='nearest')  \n",
    "plt.title('Masked Data')\n",
    "plt.show()"
   ]
  },
  {
   "cell_type": "markdown",
   "metadata": {},
   "source": [
    "# Gradient Descents\n",
    "\n",
    "Implement **SGD**. **BGD** and **GD** in this cell using **numpy**. Compute the error of the resulting matrix compared to original data for approximation ranks in [1,M]. For measuring the quality of the fit, you should use the log-likelihood\n",
    "\n",
    "\\begin{eqnarray}\n",
    "\\log p(Y |W, H ) &=& \\sum_j \\sum_{i} M(i,j) Y(i,j) \\left(\\sum_k W(i,k) H(k,j)\\right)  - \\sum_j \\sum_{i} M(i,j) \\log\\left( 1+ \\exp\\left(\\sum_k W(i,k) H(k,j)\\right)\\right) \n",
    "\\end{eqnarray}\n",
    "\n",
    "For plot generation, use results computed by SGD."
   ]
  },
  {
   "cell_type": "code",
   "execution_count": 69,
   "metadata": {},
   "outputs": [],
   "source": [
    "def log_likelihood(M,Y,W,H):\n",
    "    left_term = np.sum((M*Y)*(W.dot(H)))\n",
    "    right_term= np.sum(M*np.log(1+np.exp(W.dot(H))))\n",
    "    return left_term - right_term"
   ]
  },
  {
   "cell_type": "code",
   "execution_count": 187,
   "metadata": {
    "scrolled": false
   },
   "outputs": [],
   "source": [
    "# Implement SGD here. Add the method signatures for other gradient descents as well. \n",
    "# You can add a batch size parameter to merge\n",
    "# all types of gradient descents into one method.\n",
    "def sgd(original_matrix, mask, estimation_rank, MAX_ITER=10000, \n",
    "        eta=0.005, nu=0.5, batch_size=1):\n",
    "    \n",
    "    matrix_size = original_matrix.size\n",
    "    if batch_size > matrix_size:\n",
    "        raise ValueError(\"Please enter a value in range [1,size(original_matrix)]\")\n",
    "    \n",
    "    W = np.random.randn(original_matrix.shape[0], estimation_rank)\n",
    "    H = np.random.randn(estimation_rank, original_matrix.shape[1])\n",
    "    \n",
    "    mask[np.isnan(mask)] = 0\n",
    "    errors = []\n",
    "    \n",
    "\n",
    "    for _ in range(MAX_ITER):\n",
    "        errors.append(log_likelihood(mask,original_matrix,W,H))\n",
    "\n",
    "        cells = np.arange(matrix_size)\n",
    "        np.random.shuffle(cells)\n",
    "        cells = cells[:batch_size]\n",
    "\n",
    "        i = cells//original_matrix.shape[1]\n",
    "        j = cells%original_matrix.shape[1]\n",
    "\n",
    "        mask_bgd = np.zeros(original_matrix.shape)\n",
    "        mask_bgd[i,j] = 1\n",
    "\n",
    "        mask_W = np.zeros(W.shape)\n",
    "        mask_W[i,:] = 1\n",
    "        mask_H = np.zeros(H.shape)\n",
    "        mask_H[:,j] = 1\n",
    "        dH = W.T.dot(mask*mask_bgd*(original_matrix-sigmoid(W.dot(H)))) - nu*mask_H*H\n",
    "        dW = (mask*mask_bgd*(original_matrix-sigmoid(W.dot(H)))).dot(H.T) - nu*mask_W*W\n",
    "\n",
    "        H = H + eta*dH\n",
    "        W = W + eta*dW\n",
    "        \n",
    "    return (W,H,errors)\n",
    "\n",
    "\n",
    "# Number of iterations\n",
    "MAX_ITER = 10000\n",
    "\n",
    "# Compute error for varying estimation ranks from 1 to M\n",
    "errors = [] # store the error to this list.\n",
    "final_W, final_H, errors = sgd(original_matrix, mask, 1, \n",
    "                               MAX_ITER=MAX_ITER,nu=0,batch_size=10)"
   ]
  },
  {
   "cell_type": "markdown",
   "metadata": {},
   "source": [
    "Plot error vs estimation rank."
   ]
  },
  {
   "cell_type": "code",
   "execution_count": 181,
   "metadata": {},
   "outputs": [
    {
     "data": {
      "image/png": "[encoded data removed]",
      "text/plain": [
       "<matplotlib.figure.Figure at 0x10afa9470>"
      ]
     },
     "metadata": {},
     "output_type": "display_data"
    }
   ],
   "source": [
    "error\n",
    "plt.plot(range(0,len(errors)), errors)\n",
    "plt.show()"
   ]
  },
  {
   "cell_type": "markdown",
   "metadata": {},
   "source": [
    "Now compute error for both changing rank( 1 to M) and max_iter(5000-20000). Plot it as a heatmap. You can use the plotting code below."
   ]
  },
  {
   "cell_type": "code",
   "execution_count": 120,
   "metadata": {},
   "outputs": [],
   "source": [
    "# Run sgd code once for 20000 iterations filter the errors between 5000 and 20000\n",
    "\n",
    "MAX_ITER = 20000\n",
    "changing_rank = np.arange(M) + 1\n",
    "batch_size = 1\n",
    "\n",
    "errors = [sgd(original_matrix, mask, rank, MAX_ITER=MAX_ITER, batch_size=batch_size)[-1] for rank in changing_rank]"
   ]
  },
  {
   "cell_type": "code",
   "execution_count": 121,
   "metadata": {},
   "outputs": [],
   "source": [
    "errors = np.array(errors)\n",
    "errors = errors[:,5000:]"
   ]
  },
  {
   "cell_type": "code",
   "execution_count": 122,
   "metadata": {},
   "outputs": [
    {
     "data": {
      "text/plain": [
       "(20, 20000)"
      ]
     },
     "execution_count": 122,
     "metadata": {},
     "output_type": "execute_result"
    }
   ],
   "source": [
    "errors.shape"
   ]
  },
  {
   "cell_type": "code",
   "execution_count": 123,
   "metadata": {},
   "outputs": [
    {
     "data": {
      "text/plain": [
       "array([-256.08891102, -248.14736092, -153.91939427, -119.08888464,\n",
       "        -85.08043468,  -79.25247237,  -52.51986008,  -68.75368959,\n",
       "        -57.98514096,  -58.88514392,  -84.48409069,  -54.30807182,\n",
       "        -20.39240548,  -30.03791183,  -47.55715111,  -54.66669524,\n",
       "        -43.0337075 ,  -39.8853157 ,  -42.39833817,  -20.71683022])"
      ]
     },
     "execution_count": 123,
     "metadata": {},
     "output_type": "execute_result"
    }
   ],
   "source": [
    "errors[:,-1]"
   ]
  },
  {
   "cell_type": "code",
   "execution_count": 124,
   "metadata": {
    "scrolled": true
   },
   "outputs": [
    {
     "data": {
      "image/png": "[encoded data removed]",
      "text/plain": [
       "<matplotlib.figure.Figure at 0x105abcf98>"
      ]
     },
     "metadata": {},
     "output_type": "display_data"
    }
   ],
   "source": [
    "plt.imshow(errors, cmap='hot', interpolation='nearest', extent=[5000,20000,M,1], aspect='auto')\n",
    "plt.xlabel('Iterations')\n",
    "plt.ylabel('Approximation Rank')\n",
    "plt.colorbar()\n",
    "plt.show()"
   ]
  },
  {
   "cell_type": "code",
   "execution_count": 147,
   "metadata": {},
   "outputs": [],
   "source": [
    "# Run the sgd code for 5000, 6500, ..., 20000 iterations separately and plot heatmap\n",
    "\n",
    "MAX_ITER = np.arange(5000,20001,1500)\n",
    "changing_rank = np.arange(M) + 1\n",
    "batch_size = 1\n",
    "\n",
    "errors = [[sgd(original_matrix, mask, rank, MAX_ITER=_iter, batch_size=batch_size)[-1][-1] for _iter in MAX_ITER] for rank in changing_rank]"
   ]
  },
  {
   "cell_type": "code",
   "execution_count": 149,
   "metadata": {},
   "outputs": [
    {
     "data": {
      "image/png": "[encoded data removed]",
      "text/plain": [
       "<matplotlib.figure.Figure at 0x10ae14208>"
      ]
     },
     "metadata": {},
     "output_type": "display_data"
    }
   ],
   "source": [
    "plt.imshow(errors, cmap='hot', interpolation='nearest', extent=[5000,20000,M,1], aspect='auto')\n",
    "plt.xlabel('Iterations')\n",
    "plt.ylabel('Approximation Rank')\n",
    "plt.colorbar()\n",
    "plt.show()"
   ]
  },
  {
   "cell_type": "markdown",
   "metadata": {},
   "source": [
    "### Now analyze the effect of varying the hidden element count(set your own limits) and approximation rank"
   ]
  },
  {
   "cell_type": "code",
   "execution_count": 134,
   "metadata": {},
   "outputs": [
    {
     "name": "stdout",
     "output_type": "stream",
     "text": [
      "[0.1 0.2 0.3 0.4 0.5 0.6 0.7 0.8 0.9]\n"
     ]
    }
   ],
   "source": [
    "MAX_ITER = 20000\n",
    "changing_rank = np.arange(M) + 1\n",
    "batch_size = 1\n",
    "\n",
    "changing_mask = (M*M)*np.linspace(0.1, 1.0, num=9, endpoint=False)\n",
    "changing_mask = changing_mask.astype(int)\n",
    "print(changing_mask/(M*M))\n",
    "\n",
    "#first [-1] gets error list from returning tuple, second [-1] gets last element of this list\n",
    "errors = [[sgd(original_matrix, generate_mask(M,mask_filter), rank, MAX_ITER=MAX_ITER, \n",
    "               batch_size=batch_size)[-1][-1] for mask_filter in changing_mask] for rank in changing_rank]"
   ]
  },
  {
   "cell_type": "code",
   "execution_count": 136,
   "metadata": {},
   "outputs": [
    {
     "data": {
      "image/png": "[encoded data removed]",
      "text/plain": [
       "<matplotlib.figure.Figure at 0x10a814518>"
      ]
     },
     "metadata": {},
     "output_type": "display_data"
    }
   ],
   "source": [
    "plt.imshow(errors, cmap='hot', interpolation='nearest', \n",
    "           extent=[changing_mask[0]/(M*M), changing_mask[-1]/(M*M),\n",
    "                   changing_rank[-1], changing_rank[0]], aspect='auto')\n",
    "plt.xlabel('Mask Count')\n",
    "plt.ylabel('Approximation Rank')\n",
    "plt.colorbar()\n",
    "plt.show()"
   ]
  },
  {
   "cell_type": "markdown",
   "metadata": {},
   "source": [
    "# PyTorch\n",
    "\n",
    "Now implement BGD and SGD using PyTorch and generate the same plots."
   ]
  },
  {
   "cell_type": "code",
   "execution_count": 192,
   "metadata": {},
   "outputs": [],
   "source": [
    "import torch\n",
    "from torch.autograd import Variable"
   ]
  },
  {
   "cell_type": "code",
   "execution_count": 193,
   "metadata": {},
   "outputs": [],
   "source": [
    "def torch_log_loss(M,Y,W,H):\n",
    "    left_term = torch.sum(torch.mul(torch.mul(M,Y), torch.mm(W,H)))\n",
    "    right_term = torch.sum(torch.mul(M, torch.log(1+torch.exp(torch.mm(W,H)))))\n",
    "    return left_term - right_term"
   ]
  },
  {
   "cell_type": "code",
   "execution_count": 199,
   "metadata": {},
   "outputs": [],
   "source": [
    "def torch_gd(original_matrix, mask, estimation_rank, MAX_ITER, batch_size, eta=0.005, nu=0.01):\n",
    "    matrix_size = original_matrix.size\n",
    "\n",
    "    # input\n",
    "    Y = Variable(torch.Tensor(original_matrix), requires_grad=False)\n",
    "\n",
    "    # outputs\n",
    "    W = np.random.randn(original_matrix.shape[0], estimation_rank)\n",
    "    H = np.random.randn(estimation_rank, original_matrix.shape[1])\n",
    "\n",
    "    W = Variable(torch.Tensor(W), requires_grad=True)\n",
    "    H = Variable(torch.Tensor(H), requires_grad=True)\n",
    "\n",
    "    mask[np.isnan(mask)] = 0\n",
    "    Mask = Variable(torch.Tensor(mask), requires_grad=False)\n",
    "    \n",
    "    errors = []\n",
    "    for epoch in range(MAX_ITER):\n",
    "        E = torch_log_loss(Mask,Y,W,H)\n",
    "        errors.append(float(E))\n",
    "        \n",
    "        cells = np.arange(matrix_size)\n",
    "        np.random.shuffle(cells)\n",
    "        cells = cells[:batch_size]\n",
    "        \n",
    "        i = cells//original_matrix.shape[1]\n",
    "        j = cells%original_matrix.shape[1]\n",
    "        \n",
    "        mask_bgd = np.zeros(original_matrix.shape)\n",
    "        mask_bgd[i,j] = 1\n",
    "        Mask_bgd = Variable(torch.Tensor(mask_bgd), requires_grad=False)\n",
    "        \n",
    "        E = torch_log_loss(torch.mul(Mask,Mask_bgd),Y,W,H)\n",
    "        E.backward()\n",
    "        \n",
    "        mask_W = np.zeros(W.shape)\n",
    "        mask_W[i,:] = 1\n",
    "        mask_W = Variable(torch.Tensor(mask_W), requires_grad=False)\n",
    "        \n",
    "        mask_H = np.zeros(H.shape)\n",
    "        mask_H[:,j] = 1\n",
    "        mask_H = Variable(torch.Tensor(mask_H), requires_grad=False)\n",
    "        \n",
    "        W.data.add_(eta * (W.grad.data + nu*torch.mul(mask_W,W)))\n",
    "        H.data.add_(eta * (H.grad.data + nu*torch.mul(mask_H,H)))\n",
    "\n",
    "        W.grad.zero_()\n",
    "        H.grad.zero_()\n",
    "        \n",
    "    return (W,H,errors)"
   ]
  },
  {
   "cell_type": "code",
   "execution_count": 201,
   "metadata": {},
   "outputs": [],
   "source": [
    "_, _, errors = torch_gd(original_matrix, mask, 1, MAX_ITER=10000,batch_size=10, nu=0.05)\n",
    "errors = np.array(errors)\n",
    "errors[np.isnan(errors)] = 0"
   ]
  },
  {
   "cell_type": "code",
   "execution_count": 202,
   "metadata": {},
   "outputs": [
    {
     "data": {
      "image/png": "[encoded data removed]",
      "text/plain": [
       "<matplotlib.figure.Figure at 0x10ad136a0>"
      ]
     },
     "metadata": {},
     "output_type": "display_data"
    }
   ],
   "source": [
    "plt.plot(range(0,len(errors)), errors)\n",
    "plt.show()"
   ]
  },
  {
   "cell_type": "code",
   "execution_count": 203,
   "metadata": {},
   "outputs": [],
   "source": [
    "MAX_ITER = 20000\n",
    "changing_rank = np.arange(M) + 1\n",
    "batch_size = 1\n",
    "\n",
    "errors = [torch_gd(original_matrix, mask, rank, MAX_ITER=MAX_ITER, batch_size=batch_size)[-1] for rank in changing_rank]\n",
    "errors = np.array(errors)\n",
    "errors = errors[:,5000:]"
   ]
  },
  {
   "cell_type": "code",
   "execution_count": 212,
   "metadata": {},
   "outputs": [
    {
     "data": {
      "text/plain": [
       "array([-267.11813354, -267.11434937, -267.11450195, ..., -237.54844666,\n",
       "       -237.52502441, -237.52867126])"
      ]
     },
     "execution_count": 212,
     "metadata": {},
     "output_type": "execute_result"
    }
   ],
   "source": [
    "errors[0]"
   ]
  },
  {
   "cell_type": "code",
   "execution_count": 210,
   "metadata": {},
   "outputs": [
    {
     "data": {
      "image/png": "[encoded data removed]",
      "text/plain": [
       "<matplotlib.figure.Figure at 0x10ba23278>"
      ]
     },
     "metadata": {},
     "output_type": "display_data"
    }
   ],
   "source": [
    "plt.imshow(errors, cmap='hot', interpolation='nearest', extent=[5000,5000+errors.shape[1],M,1], aspect='auto')\n",
    "plt.xlabel('Iterations')\n",
    "plt.ylabel('Approximation Rank')\n",
    "plt.colorbar()\n",
    "plt.show()"
   ]
  },
  {
   "cell_type": "code",
   "execution_count": 213,
   "metadata": {},
   "outputs": [
    {
     "name": "stdout",
     "output_type": "stream",
     "text": [
      "[0.1 0.2 0.3 0.4 0.5 0.6 0.7 0.8 0.9]\n"
     ]
    }
   ],
   "source": [
    "MAX_ITER = 20000\n",
    "changing_rank = np.arange(M) + 1\n",
    "batch_size = 1\n",
    "\n",
    "changing_mask = (M*M)*np.linspace(0.1, 1.0, num=9, endpoint=False)\n",
    "changing_mask = changing_mask.astype(int)\n",
    "print(changing_mask/(M*M))\n",
    "\n",
    "#first [-1] gets error list from returning tuple, second [-1] gets last element of this list\n",
    "errors = [[torch_gd(original_matrix, generate_mask(M,mask_filter), rank, MAX_ITER=MAX_ITER, \n",
    "               batch_size=batch_size)[-1][-1] for mask_filter in changing_mask] for rank in changing_rank]"
   ]
  },
  {
   "cell_type": "code",
   "execution_count": 214,
   "metadata": {},
   "outputs": [
    {
     "data": {
      "image/png": "[encoded data removed]",
      "text/plain": [
       "<matplotlib.figure.Figure at 0x10ba23c88>"
      ]
     },
     "metadata": {},
     "output_type": "display_data"
    }
   ],
   "source": [
    "plt.imshow(errors, cmap='hot', interpolation='nearest', \n",
    "           extent=[changing_mask[0]/(M*M), changing_mask[-1]/(M*M),\n",
    "                   changing_rank[-1], changing_rank[0]], aspect='auto')\n",
    "plt.xlabel('Mask Count')\n",
    "plt.ylabel('Approximation Rank')\n",
    "plt.colorbar()\n",
    "plt.show()"
   ]
  },
  {
   "cell_type": "code",
   "execution_count": null,
   "metadata": {},
   "outputs": [],
   "source": []
  }
 ],
 "metadata": {
  "kernelspec": {
   "display_name": "Python 3",
   "language": "python",
   "name": "python3"
  },
  "language_info": {
   "codemirror_mode": {
    "name": "ipython",
    "version": 3
   },
   "file_extension": ".py",
   "mimetype": "text/x-python",
   "name": "python",
   "nbconvert_exporter": "python",
   "pygments_lexer": "ipython3",
   "version": "3.6.2"
  },
  "toc": {
   "nav_menu": {},
   "number_sections": true,
   "sideBar": true,
   "skip_h1_title": false,
   "toc_cell": false,
   "toc_position": {},
   "toc_section_display": "block",
   "toc_window_display": false
  }
 },
 "nbformat": 4,
 "nbformat_minor": 2
}
